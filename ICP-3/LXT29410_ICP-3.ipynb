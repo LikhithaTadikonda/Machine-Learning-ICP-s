{
  "nbformat": 4,
  "nbformat_minor": 0,
  "metadata": {
    "colab": {
      "provenance": []
    },
    "kernelspec": {
      "name": "python3",
      "display_name": "Python 3"
    },
    "language_info": {
      "name": "python"
    }
  },
  "cells": [
    {
      "cell_type": "markdown",
      "source": [
        "**Name :** Likhitha Parvathi Tadikonda <br>\n",
        "**700752941** <br>\n",
        "**ICP-3** <br>\n"
      ],
      "metadata": {
        "id": "eMcNWwCCzuwE"
      }
    },
    {
      "cell_type": "markdown",
      "source": [
        "a. Using NumPy create random vector of size 15 having only Integers in the range 1-20.\n",
        "\n",
        "1. Reshape the array to 3 by 5\n",
        "2. Print array shape.\n",
        "3. Replace the max in each row by 0\n",
        "Create a 2-dimensional array of size 4 x 3 (composed of 4-byte integer elements), also print the shape, type and data type\n",
        "of the array."
      ],
      "metadata": {
        "id": "-_6ZOlBA0fbF"
      }
    },
    {
      "cell_type": "code",
      "source": [
        "import numpy as np\n",
        "random_vector = np.random.randint(1, 21, size=15)           #random vector size=15 with integers range 1-20\n",
        "reshaped_array = random_vector.reshape(3, 5)                # Reshape array to 3 by 5\n",
        "print(\"Array shape:\", reshaped_array.shape)\n",
        "reshaped_array[np.arange(len(reshaped_array)), np.argmax(reshaped_array, axis=1)] = 0          # Replace max in each row by 0\n",
        "print(\"Array after replacing max in each row by 0:\")\n",
        "print(reshaped_array)\n",
        "array_4x3 = np.random.randint(0, 1000, size=(4, 3), dtype=np.int32)          # Create a 2D array 4 x 3 with 4-byte int elements\n",
        "print(\"\\nShape of the array:\", array_4x3.shape)\n",
        "print(\"Type of the array:\", type(array_4x3))\n",
        "print(\"Data type of the array:\", array_4x3.dtype)"
      ],
      "metadata": {
        "colab": {
          "base_uri": "https://localhost:8080/"
        },
        "id": "QLh098za9zT6",
        "outputId": "09bca16f-a508-486b-820c-94b6c99bcbd7"
      },
      "execution_count": 1,
      "outputs": [
        {
          "output_type": "stream",
          "name": "stdout",
          "text": [
            "Array shape: (3, 5)\n",
            "Array after replacing max in each row by 0:\n",
            "[[ 0  1  4  3 16]\n",
            " [ 0  1 10 12  6]\n",
            " [ 8  3  9  4  0]]\n",
            "\n",
            "Shape of the array: (4, 3)\n",
            "Type of the array: <class 'numpy.ndarray'>\n",
            "Data type of the array: int32\n"
          ]
        }
      ]
    },
    {
      "cell_type": "markdown",
      "source": [
        "b. Write a program to compute the eigenvalues and right eigenvectors of a given square array given below:\n",
        "[[ 3 -2]\n",
        "[1 0]]"
      ],
      "metadata": {
        "id": "67EANqUY937o"
      }
    },
    {
      "cell_type": "code",
      "source": [
        "import numpy as np\n",
        "array = np.array([[3, -2],                         # Define square array\n",
        "                  [1, 0]])\n",
        "eigenvalues, eigenvectors = np.linalg.eig(array)    # Compute eigenvalues,eigenvectors\n",
        "print(\"Eigenvalues:\")\n",
        "print(eigenvalues)\n",
        "print(\"\\nRight Eigenvectors:\")\n",
        "print(eigenvectors)\n"
      ],
      "metadata": {
        "colab": {
          "base_uri": "https://localhost:8080/"
        },
        "id": "Tv7_awh9-Chm",
        "outputId": "b209141d-6016-4f3f-fed3-0d252844c35f"
      },
      "execution_count": 2,
      "outputs": [
        {
          "output_type": "stream",
          "name": "stdout",
          "text": [
            "Eigenvalues:\n",
            "[2. 1.]\n",
            "\n",
            "Right Eigenvectors:\n",
            "[[0.89442719 0.70710678]\n",
            " [0.4472136  0.70710678]]\n"
          ]
        }
      ]
    },
    {
      "cell_type": "markdown",
      "source": [
        "\n",
        "c. Compute the sum of the diagonal element of a given array.\n",
        "[[0 1 2]\n",
        "[3.45]"
      ],
      "metadata": {
        "id": "K_2kNUm2-Tlf"
      }
    },
    {
      "cell_type": "code",
      "source": [
        "import numpy as np\n",
        "array = np.array([[0, 1, 2],                #Define array\n",
        "                  [3, 4, 5]])\n",
        "diagonal_sum = np.trace(array)              # Compute sum of diagonal elements\n",
        "print(\"Sum of diagonal elements:\", diagonal_sum)"
      ],
      "metadata": {
        "colab": {
          "base_uri": "https://localhost:8080/"
        },
        "id": "q6fTu2Qx-Uex",
        "outputId": "79b240da-a78a-4d2c-9d1e-5e4cf9bb1a2f"
      },
      "execution_count": 3,
      "outputs": [
        {
          "output_type": "stream",
          "name": "stdout",
          "text": [
            "Sum of diagonal elements: 4\n"
          ]
        }
      ]
    },
    {
      "cell_type": "markdown",
      "source": [
        "d. Write a NumPy program to create a new shape to an array without changing its data.\n",
        "Reshape 3x2:\n",
        "[[1 2]\n",
        "[3.4]\n",
        "[5 6]\n",
        "Reshape 2x3:\n",
        "[[1 2 3]\n",
        "[45 6]]"
      ],
      "metadata": {
        "id": "v0EEi_FY-cgc"
      }
    },
    {
      "cell_type": "code",
      "source": [
        "import numpy as np\n",
        "array1 = np.array([[1, 2],                  #Define arrays\n",
        "                   [3, 4],\n",
        "                   [5, 6]])\n",
        "array2 = np.array([[1, 2, 3],\n",
        "                   [4, 5, 6]])\n",
        "reshaped_array1 = array1.reshape(3, 2)          # Reshape array1 to 3x2\n",
        "reshaped_array2 = array2.reshape(2, 3)          # Reshape array2 to 2x3\n",
        "print(\"Reshaped Array-1 (3x2):\")\n",
        "print(reshaped_array1)\n",
        "print(\"\\nReshaped Array-2 (2x3):\")\n",
        "print(reshaped_array2)"
      ],
      "metadata": {
        "colab": {
          "base_uri": "https://localhost:8080/"
        },
        "id": "wSZB8UTw-fc2",
        "outputId": "8e9f1c84-67b3-4e14-ce1a-dfce781aebb0"
      },
      "execution_count": 7,
      "outputs": [
        {
          "output_type": "stream",
          "name": "stdout",
          "text": [
            "Reshaped Array-1 (3x2):\n",
            "[[1 2]\n",
            " [3 4]\n",
            " [5 6]]\n",
            "\n",
            "Reshaped Array-2 (2x3):\n",
            "[[1 2 3]\n",
            " [4 5 6]]\n"
          ]
        }
      ]
    }
  ]
}