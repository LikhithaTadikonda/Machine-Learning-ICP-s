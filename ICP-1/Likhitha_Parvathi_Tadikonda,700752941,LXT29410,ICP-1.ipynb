{
  "nbformat": 4,
  "nbformat_minor": 0,
  "metadata": {
    "colab": {
      "provenance": []
    },
    "kernelspec": {
      "name": "python3",
      "display_name": "Python 3"
    },
    "language_info": {
      "name": "python"
    }
  },
  "cells": [
    {
      "cell_type": "markdown",
      "source": [
        "**Name:** Likhitha Parvathi Tadikonda <br>\n",
        "**CRN:** 30562 <br>\n",
        "**ML ICP-1**"
      ],
      "metadata": {
        "id": "qn8kR550h6f8"
      }
    },
    {
      "cell_type": "markdown",
      "source": [
        "**Question 1:**\n",
        "The following is a list of 10 students ages:\n",
        "ages = [19, 22, 19, 24, 20, 25, 26, 24, 25, 24] <br>\n",
        "• Sort the list and find the min and max age  <br>\n",
        "• Add the min age and the max age again to the list <br>\n",
        "• Find the median age (one middle item or two middle items divided by two) <br>\n",
        "• Find the average age (sum of all items divided by their number) <br>\n",
        "• Find the range of the ages (max minus min)"
      ],
      "metadata": {
        "id": "Hou_l-F4xFsM"
      }
    },
    {
      "cell_type": "code",
      "source": [
        "ages = [19, 22, 19, 24, 20, 25, 26, 24, 25, 24]\n",
        "ages.sort()\n",
        "min_age = ages[0]\n",
        "max_age = ages[-1]\n",
        "print(\"Sorted ages:\", ages)              #Sort the list\n",
        "print(\"Min Age:\", min_age)               # Finding min & max age\n",
        "print(\"Max Age:\", max_age)\n",
        "ages.extend([min_age, max_age])          #Adding min & max age again to list\n",
        "print(\"Ages after adding min & max again:\", ages)\n",
        "\n",
        "ages.sort()\n",
        "length = len(ages)\n",
        "if length % 2 == 0:                    #Finding median of age\n",
        "    median_age = (ages[length // 2 - 1] + ages[length // 2]) / 2\n",
        "else:\n",
        "    median_age = ages[length // 2]\n",
        "average_age = sum(ages) / len(ages)\n",
        "range_of_ages = max_age - min_age\n",
        "print(\"Median Age:\", median_age)\n",
        "print(\"Average Age:\", average_age)\n",
        "print(\"Range of ages:\", range_of_ages)"
      ],
      "metadata": {
        "colab": {
          "base_uri": "https://localhost:8080/"
        },
        "id": "d-4JfGuPxNZr",
        "outputId": "9b643698-31e0-4a10-a560-0f2d51c8a0f9"
      },
      "execution_count": 13,
      "outputs": [
        {
          "output_type": "stream",
          "name": "stdout",
          "text": [
            "Sorted ages: [19, 19, 20, 22, 24, 24, 24, 25, 25, 26]\n",
            "Min Age: 19\n",
            "Max Age: 26\n",
            "Ages after adding min & max again: [19, 19, 20, 22, 24, 24, 24, 25, 25, 26, 19, 26]\n",
            "Median Age: 24.0\n",
            "Average Age: 22.75\n",
            "Range of ages: 7\n"
          ]
        }
      ]
    },
    {
      "cell_type": "markdown",
      "source": [
        "**Question 2:**Create an empty dictionary called dog <br>\n",
        "• Add name, color, breed, legs, age to the dog dictionary <br>\n",
        "• Create a student dictionary and add first_name, last_name, gender, age, marital status,skills, country, city and address as keys for the dictionary <br>\n",
        "• Get the length of the student dictionary <br>\n",
        "• Get the value of skills and check the data type, it should be a list <br>\n",
        "• Modify the skills values by adding one or two skills <br>\n",
        "• Get the dictionary keys as a list <br>\n",
        "• Get the dictionary values as a list"
      ],
      "metadata": {
        "id": "Mi9H3BVKyDpy"
      }
    },
    {
      "cell_type": "code",
      "source": [
        "dog = {}                     #Create an empty dictionary called dog\n",
        "dog['name'] = 'Buddy'       # Add name, color, breed, legs, age to the dog dictionary\n",
        "dog['color'] = 'Brown'\n",
        "dog['breed'] = 'Labrador'\n",
        "dog['legs'] = 4\n",
        "dog['age'] = 5\n",
        "print(\"Dog dictionary:\", dog)\n",
        "\n",
        "student = {           # Create a student dictionary,add name,gender,age,marital status,skills,country,city & address as keys for dictionary\n",
        "    'first_name': 'John',\n",
        "    'last_name': 'Doe',\n",
        "    'gender': 'Male',\n",
        "    'age': 22,\n",
        "    'marital_status': 'Single',\n",
        "    'skills': ['Python', 'Java'],\n",
        "    'country': 'USA',\n",
        "    'city': 'New York',\n",
        "    'address': '123 Main St'\n",
        "}\n",
        "print(\"Student dictionary:\", student)\n",
        "student_length = len(student)        #Get len of student dictionary\n",
        "print(\"Len of student dictionary:\", student_length)\n",
        "skills = student['skills']             #Get the value of skills & heck the data type, it should be a list\n",
        "print(\"Skills:\", skills)\n",
        "print(\"Data type of skills:\", type(skills))\n",
        "\n",
        "student['skills'].extend(['C++', 'SQL'])     #Modify the skills values by adding them\n",
        "print(\"Updated skills:\", student['skills'])\n",
        "\n",
        "student_keys = list(student.keys())\n",
        "print(\"Student dictionary keys:\", student_keys)\n",
        "\n",
        "student_values = list(student.values())\n",
        "print(\"Student dictionary values:\", student_values)"
      ],
      "metadata": {
        "colab": {
          "base_uri": "https://localhost:8080/"
        },
        "id": "F_WQbn_tyZzx",
        "outputId": "c20985d4-d225-4ee0-cf4a-d3d21a6515a8"
      },
      "execution_count": 14,
      "outputs": [
        {
          "output_type": "stream",
          "name": "stdout",
          "text": [
            "Dog dictionary: {'name': 'Buddy', 'color': 'Brown', 'breed': 'Labrador', 'legs': 4, 'age': 5}\n",
            "Student dictionary: {'first_name': 'John', 'last_name': 'Doe', 'gender': 'Male', 'age': 22, 'marital_status': 'Single', 'skills': ['Python', 'Java'], 'country': 'USA', 'city': 'New York', 'address': '123 Main St'}\n",
            "Len of student dictionary: 9\n",
            "Skills: ['Python', 'Java']\n",
            "Data type of skills: <class 'list'>\n",
            "Updated skills: ['Python', 'Java', 'C++', 'SQL']\n",
            "Student dictionary keys: ['first_name', 'last_name', 'gender', 'age', 'marital_status', 'skills', 'country', 'city', 'address']\n",
            "Student dictionary values: ['John', 'Doe', 'Male', 22, 'Single', ['Python', 'Java', 'C++', 'SQL'], 'USA', 'New York', '123 Main St']\n"
          ]
        }
      ]
    },
    {
      "cell_type": "markdown",
      "source": [
        "**Question 3:**Create a tuple containing names of your sisters and your brothers (imaginary siblings are fine) <br>\n",
        "• Join brothers and sisters tuples and assign it to siblings <br>\n",
        "• How many siblings do you have? <br>\n",
        "• Modify the siblings tuple and add the name of your father and mother and assign it to family_members"
      ],
      "metadata": {
        "id": "6mj03TnFzHtT"
      }
    },
    {
      "cell_type": "code",
      "source": [
        "sisters = (\"Lisa\", \"Kate\")\n",
        "brothers = (\"John\", \"Micheal\")\n",
        "siblings = sisters + brothers  #Join brothers & sister tuples & assign it to siblings\n",
        "print(\"Siblings:\", siblings)\n",
        "num_siblings = len(siblings)         # How many siblings do you have?\n",
        "print(\"Number of siblings:\", num_siblings)\n",
        "\n",
        "father = \"James\"\n",
        "mother = \"Mary\"\n",
        "family_members = siblings + (father, mother)\n",
        "#Modify the siblings tuple & add the name of your father,mother & assign it to family_members\n",
        "print(\"Family members:\", family_members)"
      ],
      "metadata": {
        "colab": {
          "base_uri": "https://localhost:8080/"
        },
        "id": "TAaF3DlkzWss",
        "outputId": "b9e83483-a584-48f5-8ee7-111235e41d20"
      },
      "execution_count": 15,
      "outputs": [
        {
          "output_type": "stream",
          "name": "stdout",
          "text": [
            "Siblings: ('Lisa', 'Kate', 'John', 'Micheal')\n",
            "Number of siblings: 4\n",
            "Family members: ('Lisa', 'Kate', 'John', 'Micheal', 'James', 'Mary')\n"
          ]
        }
      ]
    },
    {
      "cell_type": "markdown",
      "source": [
        "**Question 4:**it_companies = {'Facebook', 'Google', 'Microsoft', 'Apple', 'IBM', 'Oracle', 'Amazon'} <br>\n",
        "A = {19, 22, 24, 20, 25, 26} <br>\n",
        "B = {19, 22, 20, 25, 26, 24, 28, 27} <br>\n",
        "age = [22, 19, 24, 25, 26, 24, 25, 24] <br>\n",
        "• Find the length of the set it_companies <br>\n",
        "• Add 'Twitter' to it_companies <br>\n",
        "• Insert multiple IT companies at once to the set it_companies <br>\n",
        "• Remove one of the companies from the set it_companies <br>\n",
        "• What is the difference between remove and discard <br>\n",
        "• Join A and B <br>\n",
        "• Find A intersection B <br>\n",
        "• Is A subset of B <br>\n",
        "• Are A and B disjoint sets <br>\n",
        "• Join A with B and B with A <br>\n",
        "• What is the symmetric difference between A and B <br>\n",
        "• Delete the sets completely <br>\n",
        "• Convert the ages to a set and compare the length of the list and the set."
      ],
      "metadata": {
        "id": "Kpxy2igRztsx"
      }
    },
    {
      "cell_type": "code",
      "source": [
        "it_companies = {'Facebook', 'Google', 'Microsoft', 'Apple', 'IBM', 'Oracle', 'Amazon'}\n",
        "A = {19, 22, 24, 20, 25, 26}\n",
        "B = {19, 22, 20, 25, 26, 24, 28, 27}\n",
        "age = [22, 19, 24, 25, 26, 24, 25, 24]\n",
        "\n",
        "it_companies_length = len(it_companies)  #Find len of the set it_companies\n",
        "print(\"Leng of it_companies:\", it_companies_length)\n",
        "\n",
        "it_companies.add('Twitter')               #Add 'Twitter' to it_companies\n",
        "print(\"it_companies after adding 'Twitter':\", it_companies)\n",
        "\n",
        "#Insert multiple IT companies at once to the set it_companies\n",
        "it_companies.update({'Tesla', 'Netflix', 'Adobe'})\n",
        "print(\"it_companies after adding multiple companies:\", it_companies)\n",
        "\n",
        "# Remove one of the companies from the set it_companies\n",
        "it_companies.remove('Oracle')\n",
        "print(\"it_companies after removing 'Oracle':\", it_companies)\n",
        "\n",
        "# Remove a company from the set if it exists, otherwise do nothing.\n",
        "it_companies.discard('Yahoo')\n",
        "print(it_companies)\n",
        "\n",
        "A_union_B = A.union(B)                      #Join A and B\n",
        "print(\"A union B:\", A_union_B)\n",
        "\n",
        "A_intersection_B = A.intersection(B)        # Find A intersection B\n",
        "print(\"A intersection B:\", A_intersection_B)\n",
        "\n",
        "is_A_subset_B = A.issubset(B)               # Is A subset of B\n",
        "print(\"Is A subset of B:\", is_A_subset_B)\n",
        "\n",
        "are_A_B_disjoint = A.isdisjoint(B)            # Are A and B disjoint sets\n",
        "print(\"Are A and B disjoint:\", are_A_B_disjoint)\n",
        "\n",
        "A_join_B = A.union(B)                   # Join A with B and B with A\n",
        "B_join_A = B.union(A)\n",
        "print(\"A joined with B:\", A_join_B)\n",
        "print(\"B joined with A:\", B_join_A)\n",
        "\n",
        "A_symmetric_difference_B = A.symmetric_difference(B) #symmetric diff between A & B\n",
        "print(\"Symmetric difference between A and B:\", A_symmetric_difference_B)\n",
        "\n",
        "del A            # Delete the sets completely\n",
        "del B\n",
        "print(\"A and B sets deleted.\")\n",
        "\n",
        "age_set = set(age)   # Convert ages to a set & compare the length of list & set.\n",
        "print(\"Length of age list:\", len(age))\n",
        "print(\"Length of age set:\", len(age_set))"
      ],
      "metadata": {
        "colab": {
          "base_uri": "https://localhost:8080/"
        },
        "id": "HpBF4zKXzvSD",
        "outputId": "1026140b-5efa-427a-8fdb-6efcf23670da"
      },
      "execution_count": 16,
      "outputs": [
        {
          "output_type": "stream",
          "name": "stdout",
          "text": [
            "Leng of it_companies: 7\n",
            "it_companies after adding 'Twitter': {'IBM', 'Apple', 'Amazon', 'Twitter', 'Oracle', 'Microsoft', 'Facebook', 'Google'}\n",
            "it_companies after adding multiple companies: {'IBM', 'Tesla', 'Amazon', 'Oracle', 'Facebook', 'Google', 'Adobe', 'Twitter', 'Microsoft', 'Apple', 'Netflix'}\n",
            "it_companies after removing 'Oracle': {'IBM', 'Tesla', 'Amazon', 'Facebook', 'Google', 'Adobe', 'Twitter', 'Microsoft', 'Apple', 'Netflix'}\n",
            "{'IBM', 'Tesla', 'Amazon', 'Facebook', 'Google', 'Adobe', 'Twitter', 'Microsoft', 'Apple', 'Netflix'}\n",
            "A union B: {19, 20, 22, 24, 25, 26, 27, 28}\n",
            "A intersection B: {19, 20, 22, 24, 25, 26}\n",
            "Is A subset of B: True\n",
            "Are A and B disjoint: False\n",
            "A joined with B: {19, 20, 22, 24, 25, 26, 27, 28}\n",
            "B joined with A: {19, 20, 22, 24, 25, 26, 27, 28}\n",
            "Symmetric difference between A and B: {27, 28}\n",
            "A and B sets deleted.\n",
            "Length of age list: 8\n",
            "Length of age set: 5\n"
          ]
        }
      ]
    },
    {
      "cell_type": "markdown",
      "source": [
        "**Question 5:**The radius of a circle is 30 meters.<br>\n",
        "• Calculate the area of a circle and assign the value to a variable name of _area_of_circle_  <br>\n",
        "• Calculate the circumference of a circle and assign the value to a variable name of _circum_of_circle_ <br>\n",
        "• Take radius as user input and calculate the area"
      ],
      "metadata": {
        "id": "sT8As8jj0Q_Y"
      }
    },
    {
      "cell_type": "code",
      "source": [
        "import math\n",
        "radius = 30\n",
        "_area_of_circle_ = math.pi * radius ** 2      #Calc area of circle with r=30 meters\n",
        "print(\"Area of the circle:\", _area_of_circle_)\n",
        "\n",
        "_circum_of_circle_ = 2 * math.pi * radius    #Calc circumference of circle with r=30 meters\n",
        "print(\"Circumference of the circle:\", _circum_of_circle_)\n",
        "\n",
        "user_radius = float(input(\"Enter the radius of the circle: \")) #Take radius as user input & calc the area\n",
        "user_area_of_circle = math.pi * user_radius ** 2\n",
        "print(\"Area of the circle with radius\", user_radius, \":\", user_area_of_circle)"
      ],
      "metadata": {
        "colab": {
          "base_uri": "https://localhost:8080/"
        },
        "id": "ymYK725f0SM-",
        "outputId": "06823355-b6b0-447b-cd3e-7ee60e287835"
      },
      "execution_count": 5,
      "outputs": [
        {
          "output_type": "stream",
          "name": "stdout",
          "text": [
            "Area of the circle: 2827.4333882308138\n",
            "Circumference of the circle: 188.49555921538757\n",
            "Enter the radius of the circle: 2\n",
            "Area of the circle with radius 2.0 : 12.566370614359172\n"
          ]
        }
      ]
    },
    {
      "cell_type": "markdown",
      "source": [
        "**Question 6:**“I am a teacher and I love to inspire and teach people”\n",
        "• How many unique words have been used in the sentence? Use the split methods and set\n",
        "to get the unique words."
      ],
      "metadata": {
        "id": "iGT12uXw1A5i"
      }
    },
    {
      "cell_type": "code",
      "source": [
        "sentence = \"I am a teacher and I love to inspire and teach people\"\n",
        "words = sentence.split()                  #Split sentence into words\n",
        "unique_words = set(words)                  #Create a set to store unique words\n",
        "num_unique_words = len(unique_words)          #Print no. of unique words\n",
        "print(\"Number of unique words:\", num_unique_words)"
      ],
      "metadata": {
        "colab": {
          "base_uri": "https://localhost:8080/"
        },
        "id": "bSS8c8tv1CDv",
        "outputId": "f0f30656-523f-4793-ace0-e16e047ede84"
      },
      "execution_count": 17,
      "outputs": [
        {
          "output_type": "stream",
          "name": "stdout",
          "text": [
            "Number of unique words: 10\n"
          ]
        }
      ]
    },
    {
      "cell_type": "markdown",
      "source": [
        "**Question 7:**Use a tab escape sequence to get the following lines.\n",
        "Name Age Country City\n",
        "Asabeneh 250 Finland Helsinki\n"
      ],
      "metadata": {
        "id": "5AUsFWcD1OgG"
      }
    },
    {
      "cell_type": "code",
      "source": [
        "print(\"Name\\tAge\\tCountry\\tCity\\nAsabeneh\\t250\\tFinland\\tHelsinki\")"
      ],
      "metadata": {
        "colab": {
          "base_uri": "https://localhost:8080/"
        },
        "id": "KvIph9bu1pzd",
        "outputId": "77a0d289-932f-4385-d919-1f25faabaf63"
      },
      "execution_count": 7,
      "outputs": [
        {
          "output_type": "stream",
          "name": "stdout",
          "text": [
            "Name\tAge\tCountry\tCity\n",
            "Asabeneh\t250\tFinland\tHelsinki\n"
          ]
        }
      ]
    },
    {
      "cell_type": "markdown",
      "source": [
        "**Question 8:**Use the string formatting method to display the following:\n",
        "radius = 10\n",
        "area = 3.14 * radius ** 2\n",
        "“The area of a circle with radius 10 is 314 meters square.”"
      ],
      "metadata": {
        "id": "ZXArcxnC1trI"
      }
    },
    {
      "cell_type": "code",
      "source": [
        "radius = 10\n",
        "area = 3.14 * radius ** 2\n",
        "print(\"Area of circle with radius {} is {} meters square.\".format(radius, area))"
      ],
      "metadata": {
        "colab": {
          "base_uri": "https://localhost:8080/"
        },
        "id": "Z3vAl1HS10Nm",
        "outputId": "5635fbd4-f421-4846-96c1-bcdbb5e05634"
      },
      "execution_count": 8,
      "outputs": [
        {
          "output_type": "stream",
          "name": "stdout",
          "text": [
            "Area of circle with radius 10 is 314.0 meters square.\n"
          ]
        }
      ]
    },
    {
      "cell_type": "markdown",
      "source": [
        "**Question 9:**Write a program, which reads weights (lbs.) of N students into a list and convert these weights to\n",
        "kilograms in a separate list using Loop.<br> N: No of students (Read input from user) <br>\n",
        "Example: <br>L1: [150, 155, 145, 148] <br>\n",
        "Output: [68.03, 70.3, 65.77, 67.13]"
      ],
      "metadata": {
        "id": "gCJPsu1U182g"
      }
    },
    {
      "cell_type": "code",
      "source": [
        "N = int(input(\"Enter the number of students: \"))  # Get no. of students from user\n",
        "weights_lbs = []                #Create list to store weights in pounds\n",
        "for i in range(N):               #Get weights of the students in pounds\n",
        "    weight_lbs = float(input(f\"Enter the weight of student {i+1} in pounds: \"))\n",
        "    weights_lbs.append(weight_lbs)\n",
        "\n",
        "weights_kg = []             #Create a list to store weights in kilograms\n",
        "for weight_lbs in weights_lbs:     #Convert weights from pounds to kilograms\n",
        "    weight_kg = weight_lbs * 0.45359237\n",
        "    weights_kg.append(round(weight_kg, 2))\n",
        "\n",
        "#Printlist of weights in kilograms\n",
        "print(\"Weights in kilograms:\", weights_kg)"
      ],
      "metadata": {
        "colab": {
          "base_uri": "https://localhost:8080/"
        },
        "id": "k520xZI0193n",
        "outputId": "2a14e2be-dc73-4941-bf2a-b20ebe081670"
      },
      "execution_count": 19,
      "outputs": [
        {
          "output_type": "stream",
          "name": "stdout",
          "text": [
            "Enter the number of students: 4\n",
            "Enter the weight of student 1 in pounds: 150\n",
            "Enter the weight of student 2 in pounds: 155\n",
            "Enter the weight of student 3 in pounds: 145\n",
            "Enter the weight of student 4 in pounds: 148\n",
            "Weights in kilograms: [68.04, 70.31, 65.77, 67.13]\n"
          ]
        }
      ]
    }
  ]
}